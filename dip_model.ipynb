{
 "cells": [
  {
   "cell_type": "code",
   "execution_count": 1,
   "id": "29cf549b",
   "metadata": {},
   "outputs": [],
   "source": [
    "from hill import *\n",
    "\n",
    "def epsilon(a):\n",
    "    import numpy as np\n",
    "    return np.exp(-a)\n",
    "\n",
    "def hill_survival_with_dip(a, mu_ub, mu_lb, K, m, t_e, delta):\n",
    "    from scipy.integrate import quad\n",
    "    import numpy as np\n",
    "\n",
    "    if a < t_e - delta:\n",
    "        return hill_survival_function(a, mu_ub, mu_lb, K, m)\n",
    "    \n",
    "    elif t_e - delta <= a <= t_e:\n",
    "        return hill_survival_function(a, mu_ub, mu_lb, K, m) * np.exp(-epsilon(a) * quad(lambda s: hill_hazard(s, mu_ub, mu_lb, K, m), 0, delta-(t_e-a)))\n",
    "    \n",
    "    else:\n",
    "        return hill_survival_function(a, mu_ub, mu_lb, K, m) * np.exp(-epsilon(a) * quad(lambda s: hill_hazard(s, mu_ub, mu_lb, K, m), a-t_e, a-t_e+delta))\n"
   ]
  },
  {
   "cell_type": "code",
   "execution_count": 2,
   "id": "12facde5",
   "metadata": {},
   "outputs": [
    {
     "data": {
      "text/html": [
       "<div>\n",
       "<style scoped>\n",
       "    .dataframe tbody tr th:only-of-type {\n",
       "        vertical-align: middle;\n",
       "    }\n",
       "\n",
       "    .dataframe tbody tr th {\n",
       "        vertical-align: top;\n",
       "    }\n",
       "\n",
       "    .dataframe thead th {\n",
       "        text-align: right;\n",
       "    }\n",
       "</style>\n",
       "<table border=\"1\" class=\"dataframe\">\n",
       "  <thead>\n",
       "    <tr style=\"text-align: right;\">\n",
       "      <th></th>\n",
       "      <th>uen</th>\n",
       "      <th>Sector</th>\n",
       "      <th>status</th>\n",
       "      <th>Exit Date</th>\n",
       "      <th>Entry Date</th>\n",
       "      <th>Region</th>\n",
       "      <th>age</th>\n",
       "      <th>Dead</th>\n",
       "    </tr>\n",
       "  </thead>\n",
       "  <tbody>\n",
       "    <tr>\n",
       "      <th>0</th>\n",
       "      <td>53376145W</td>\n",
       "      <td>N</td>\n",
       "      <td>0</td>\n",
       "      <td>2020-04-30 09:36:00</td>\n",
       "      <td>2018-01-13 10:32:56</td>\n",
       "      <td>NR</td>\n",
       "      <td>4.963723</td>\n",
       "      <td>1</td>\n",
       "    </tr>\n",
       "    <tr>\n",
       "      <th>1</th>\n",
       "      <td>53290857X</td>\n",
       "      <td>S</td>\n",
       "      <td>1</td>\n",
       "      <td>NaT</td>\n",
       "      <td>2015-02-26 12:02:44</td>\n",
       "      <td>CR</td>\n",
       "      <td>7.843943</td>\n",
       "      <td>0</td>\n",
       "    </tr>\n",
       "    <tr>\n",
       "      <th>3</th>\n",
       "      <td>200412424K</td>\n",
       "      <td>G</td>\n",
       "      <td>1</td>\n",
       "      <td>NaT</td>\n",
       "      <td>2004-09-28 17:56:29</td>\n",
       "      <td>WR</td>\n",
       "      <td>18.255989</td>\n",
       "      <td>0</td>\n",
       "    </tr>\n",
       "    <tr>\n",
       "      <th>4</th>\n",
       "      <td>53396472E</td>\n",
       "      <td>H</td>\n",
       "      <td>0</td>\n",
       "      <td>2020-10-10 09:36:00</td>\n",
       "      <td>2019-04-11 21:20:43</td>\n",
       "      <td>CR</td>\n",
       "      <td>3.723477</td>\n",
       "      <td>1</td>\n",
       "    </tr>\n",
       "    <tr>\n",
       "      <th>5</th>\n",
       "      <td>48376900B</td>\n",
       "      <td>S</td>\n",
       "      <td>0</td>\n",
       "      <td>1999-12-24 04:48:00</td>\n",
       "      <td>1993-04-12 00:00:00</td>\n",
       "      <td>NER</td>\n",
       "      <td>29.722108</td>\n",
       "      <td>1</td>\n",
       "    </tr>\n",
       "  </tbody>\n",
       "</table>\n",
       "</div>"
      ],
      "text/plain": [
       "          uen Sector  status           Exit Date          Entry Date Region  \\\n",
       "0   53376145W      N       0 2020-04-30 09:36:00 2018-01-13 10:32:56     NR   \n",
       "1   53290857X      S       1                 NaT 2015-02-26 12:02:44     CR   \n",
       "3  200412424K      G       1                 NaT 2004-09-28 17:56:29     WR   \n",
       "4   53396472E      H       0 2020-10-10 09:36:00 2019-04-11 21:20:43     CR   \n",
       "5   48376900B      S       0 1999-12-24 04:48:00 1993-04-12 00:00:00    NER   \n",
       "\n",
       "         age  Dead  \n",
       "0   4.963723     1  \n",
       "1   7.843943     0  \n",
       "3  18.255989     0  \n",
       "4   3.723477     1  \n",
       "5  29.722108     1  "
      ]
     },
     "execution_count": 2,
     "metadata": {},
     "output_type": "execute_result"
    }
   ],
   "source": [
    "from survival_analysis import prepare_df\n",
    "import pandas as pd\n",
    "\n",
    "df = prepare_df()\n",
    "\n",
    "df_analysis = df.copy()\n",
    "\n",
    "# Add age column\n",
    "df_analysis['age'] = ((pd.to_datetime(\"2023-01-01\")) - df_analysis['Entry Date']).dt.days / 365.25\n",
    "\n",
    "# Add dead column\n",
    "df_analysis['Dead'] = 1 - df_analysis['status']\n",
    "\n",
    "# Drop ages > 30\n",
    "df_analysis = df_analysis[df_analysis['age'] <= 30]\n",
    "\n",
    "df_analysis.head()"
   ]
  },
  {
   "cell_type": "code",
   "execution_count": 6,
   "id": "219abde3",
   "metadata": {},
   "outputs": [
    {
     "ename": "NameError",
     "evalue": "name 'hill_survival_function' is not defined",
     "output_type": "error",
     "traceback": [
      "\u001b[31m---------------------------------------------------------------------------\u001b[39m",
      "\u001b[31mNameError\u001b[39m                                 Traceback (most recent call last)",
      "\u001b[36mCell\u001b[39m\u001b[36m \u001b[39m\u001b[32mIn[6]\u001b[39m\u001b[32m, line 9\u001b[39m\n\u001b[32m      6\u001b[39m survival_fractions, ages = obtain_survival_fractions(df_analysis, \u001b[33m'\u001b[39m\u001b[33mSector\u001b[39m\u001b[33m'\u001b[39m, \u001b[33m'\u001b[39m\u001b[33mH\u001b[39m\u001b[33m'\u001b[39m)\n\u001b[32m      8\u001b[39m plt.plot(ages, survival_fractions, \u001b[33m'\u001b[39m\u001b[33mo\u001b[39m\u001b[33m'\u001b[39m, markersize=\u001b[32m3\u001b[39m)\n\u001b[32m----> \u001b[39m\u001b[32m9\u001b[39m plt.plot(ages, np.array([\u001b[43mhill_survival_with_dip\u001b[49m\u001b[43m(\u001b[49m\u001b[43ma\u001b[49m\u001b[43m,\u001b[49m\u001b[43m \u001b[49m\u001b[32;43m0.190143914\u001b[39;49m\u001b[43m,\u001b[49m\u001b[43m \u001b[49m\u001b[32;43m0.028016019\u001b[39;49m\u001b[43m,\u001b[49m\u001b[43m \u001b[49m\u001b[32;43m6.93767599\u001b[39;49m\u001b[43m,\u001b[49m\u001b[43m \u001b[49m\u001b[32;43m100\u001b[39;49m\u001b[43m,\u001b[49m\u001b[43m \u001b[49m\u001b[32;43m7\u001b[39;49m\u001b[43m,\u001b[49m\u001b[43m \u001b[49m\u001b[32;43m3\u001b[39;49m\u001b[43m)\u001b[49m \u001b[38;5;28;01mfor\u001b[39;00m a \u001b[38;5;129;01min\u001b[39;00m ages]))\n\u001b[32m     10\u001b[39m plt.show()\n",
      "\u001b[36mCell\u001b[39m\u001b[36m \u001b[39m\u001b[32mIn[1]\u001b[39m\u001b[32m, line 12\u001b[39m, in \u001b[36mhill_survival_with_dip\u001b[39m\u001b[34m(a, mu_ub, mu_lb, K, m, t_e, delta)\u001b[39m\n\u001b[32m      9\u001b[39m \u001b[38;5;28;01mimport\u001b[39;00m\u001b[38;5;250m \u001b[39m\u001b[34;01mnumpy\u001b[39;00m\u001b[38;5;250m \u001b[39m\u001b[38;5;28;01mas\u001b[39;00m\u001b[38;5;250m \u001b[39m\u001b[34;01mnp\u001b[39;00m\n\u001b[32m     11\u001b[39m \u001b[38;5;28;01mif\u001b[39;00m a < t_e - delta:\n\u001b[32m---> \u001b[39m\u001b[32m12\u001b[39m     \u001b[38;5;28;01mreturn\u001b[39;00m \u001b[43mhill_survival_function\u001b[49m(a, mu_ub, mu_lb, K, m)\n\u001b[32m     14\u001b[39m \u001b[38;5;28;01melif\u001b[39;00m t_e - delta <= a <= t_e:\n\u001b[32m     15\u001b[39m     \u001b[38;5;28;01mreturn\u001b[39;00m hill_survival_function(a, mu_ub, mu_lb, K, m) * np.exp(-epsilon(a) * quad(\u001b[38;5;28;01mlambda\u001b[39;00m s: hill_hazard(s, mu_ub, mu_lb, K, m), \u001b[32m0\u001b[39m, delta-(t_e-a)))\n",
      "\u001b[31mNameError\u001b[39m: name 'hill_survival_function' is not defined"
     ]
    },
    {
     "data": {
      "image/png": "[encoded data removed]",
      "text/plain": [
       "<Figure size 640x480 with 1 Axes>"
      ]
     },
     "metadata": {},
     "output_type": "display_data"
    }
   ],
   "source": [
    "import matplotlib.pyplot as plt\n",
    "from survival_analysis import obtain_survival_fractions\n",
    "import numpy as np\n",
    "\n",
    "\n",
    "survival_fractions, ages = obtain_survival_fractions(df_analysis, 'Sector', 'H')\n",
    "\n",
    "plt.plot(ages, survival_fractions, 'o', markersize=3)\n",
    "plt.plot(ages, np.array([hill_survival_with_dip(a, 0.190143914, 0.028016019, 6.93767599, 100, 7, 3) for a in ages]))\n",
    "plt.show()"
   ]
  },
  {
   "cell_type": "code",
   "execution_count": null,
   "id": "c693d9fc",
   "metadata": {},
   "outputs": [],
   "source": []
  }
 ],
 "metadata": {
  "kernelspec": {
   "display_name": "Python 3",
   "language": "python",
   "name": "python3"
  },
  "language_info": {
   "codemirror_mode": {
    "name": "ipython",
    "version": 3
   },
   "file_extension": ".py",
   "mimetype": "text/x-python",
   "name": "python",
   "nbconvert_exporter": "python",
   "pygments_lexer": "ipython3",
   "version": "3.13.7"
  }
 },
 "nbformat": 4,
 "nbformat_minor": 5
}
